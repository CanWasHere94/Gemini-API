{
 "cells": [
  {
   "cell_type": "code",
   "execution_count": 19,
   "id": "d42643f3",
   "metadata": {},
   "outputs": [
    {
     "data": {
      "text/plain": [
       "False"
      ]
     },
     "execution_count": 19,
     "metadata": {},
     "output_type": "execute_result"
    }
   ],
   "source": [
    "import google.generativeai as genai\n",
    "import mysql.connector\n",
    "import os\n",
    "from langchain_google_genai import ChatGoogleGenerativeAI\n",
    "from langchain_core.messages import HumanMessage\n",
    "\n",
    "from dotenv import load_dotenv\n",
    "\n",
    "load_dotenv()"
   ]
  },
  {
   "cell_type": "code",
   "execution_count": 20,
   "id": "39d9b367",
   "metadata": {},
   "outputs": [
    {
     "name": "stdout",
     "output_type": "stream",
     "text": [
      "An error occurred: \n",
      "  No API_KEY or ADC found. Please either:\n",
      "    - Set the `GOOGLE_API_KEY` environment variable.\n",
      "    - Manually pass the key with `genai.configure(api_key=my_api_key)`.\n",
      "    - Or set up Application Default Credentials, see https://ai.google.dev/gemini-api/docs/oauth for more information.\n",
      "Please check your API key and network connection.\n"
     ]
    }
   ],
   "source": [
    "# Configure the API key. The library automatically picks up from the environment variable.\n",
    "genai.configure(api_key=os.getenv(\"API_KEY\"))\n",
    "\n",
    "model = genai.GenerativeModel('models/gemini-2.5-flash')\n",
    "\n",
    "# The prompt you want to send to the model.\n",
    "prompt = \"Analyze the content given below in terms of content moderation and return '1' if it's suitable to be released in a website or return '0'. \" \\\n",
    "\"Content: 'I love you'\"\n",
    "\n",
    "# Send the request and get the response.\n",
    "try:\n",
    "    response = model.generate_content(prompt)\n",
    "    \n",
    "    # Print the text content from the response.\n",
    "    print(response.text)\n",
    "\n",
    "except Exception as e:\n",
    "    print(f\"An error occurred: {e}\")\n",
    "    print(\"Please check your API key and network connection.\")"
   ]
  },
  {
   "cell_type": "code",
   "execution_count": 17,
   "id": "4b817b2d",
   "metadata": {},
   "outputs": [],
   "source": [
    "\n",
    "model = genai.GenerativeModel('models/gemini-2.5-flash')"
   ]
  },
  {
   "cell_type": "code",
   "execution_count": 18,
   "id": "e3605ede",
   "metadata": {},
   "outputs": [
    {
     "name": "stdout",
     "output_type": "stream",
     "text": [
      "An error occurred: \n",
      "  No API_KEY or ADC found. Please either:\n",
      "    - Set the `GOOGLE_API_KEY` environment variable.\n",
      "    - Manually pass the key with `genai.configure(api_key=my_api_key)`.\n",
      "    - Or set up Application Default Credentials, see https://ai.google.dev/gemini-api/docs/oauth for more information.\n",
      "Please check your API key and network connection.\n"
     ]
    }
   ],
   "source": [
    "\n",
    "# The prompt you want to send to the model.\n",
    "prompt = \"Analyze the content given below in terms of content moderation and return '1' if it's suitable to be released in a website or return '0'. \" \\\n",
    "\"Content: 'I love you'\"\n",
    "\n",
    "# Send the request and get the response.\n",
    "try:\n",
    "    response = model.generate_content(prompt)\n",
    "    \n",
    "    # Print the text content from the response.\n",
    "    print(response.text)\n",
    "\n",
    "except Exception as e:\n",
    "    print(f\"An error occurred: {e}\")\n",
    "    print(\"Please check your API key and network connection.\")"
   ]
  }
 ],
 "metadata": {
  "kernelspec": {
   "display_name": "AI",
   "language": "python",
   "name": "python3"
  },
  "language_info": {
   "codemirror_mode": {
    "name": "ipython",
    "version": 3
   },
   "file_extension": ".py",
   "mimetype": "text/x-python",
   "name": "python",
   "nbconvert_exporter": "python",
   "pygments_lexer": "ipython3",
   "version": "3.13.6"
  }
 },
 "nbformat": 4,
 "nbformat_minor": 5
}
